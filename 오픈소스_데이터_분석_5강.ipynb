{
  "nbformat": 4,
  "nbformat_minor": 0,
  "metadata": {
    "colab": {
      "provenance": [],
      "include_colab_link": true
    },
    "kernelspec": {
      "name": "python3",
      "display_name": "Python 3"
    },
    "language_info": {
      "name": "python"
    }
  },
  "cells": [
    {
      "cell_type": "markdown",
      "metadata": {
        "id": "view-in-github",
        "colab_type": "text"
      },
      "source": [
        "<a href=\"https://colab.research.google.com/github/Elinasu001/Data-Analysis-with-Open-Source/blob/main/%EC%98%A4%ED%94%88%EC%86%8C%EC%8A%A4_%EB%8D%B0%EC%9D%B4%ED%84%B0_%EB%B6%84%EC%84%9D_5%EA%B0%95.ipynb\" target=\"_parent\"><img src=\"https://colab.research.google.com/assets/colab-badge.svg\" alt=\"Open In Colab\"/></a>"
      ]
    },
    {
      "cell_type": "markdown",
      "source": [
        "# 오픈소스 기반 데이터 분석 5강 - 데이터 저장"
      ],
      "metadata": {
        "id": "O4kC4JMknVnK"
      }
    },
    {
      "cell_type": "markdown",
      "source": [
        "## 5-1 CSV 형식 저장"
      ],
      "metadata": {
        "id": "8DfV0cZLqj_s"
      }
    },
    {
      "cell_type": "code",
      "source": [
        "import pandas as pd\n",
        "\n",
        "data = {\n",
        "    'student_id': [101, 102, 103, 104, 105],\n",
        "    'database_score': [85, 76, 92, 63, 88],\n",
        "    'cloudcomputing_score': [78, 82, 95, 70, 84],\n",
        "    'python_score': [92, 78, 85, 75, 91],\n",
        "    'watch_rate': [0.95, 0.87, 0.99, 0.80, 0.93]\n",
        "}\n",
        "## DataFrame 생성\n",
        "df = pd.DataFrame(data)\n",
        "\n",
        "## CSV 형식 저장\n",
        "df.to_csv('student_analysis.csv', encoding='utf-8', index=False)"
      ],
      "metadata": {
        "id": "DztLRI9gW2lk"
      },
      "execution_count": 9,
      "outputs": []
    },
    {
      "cell_type": "markdown",
      "source": [
        "## 5-2 JSON 형식 저장"
      ],
      "metadata": {
        "id": "CSABzaf3q8XU"
      }
    },
    {
      "cell_type": "code",
      "source": [
        "### 라이브러리 임포트\n",
        "import json\n",
        "import pandas as pd\n",
        "\n",
        "data = {\n",
        "    \"이름\": \"홍길동\",\n",
        "    \"나이\": 25,\n",
        "    \"거주지\": \"서울\",\n",
        "    \"관심사\": [\"프로그래밍\", \"데이터 분석\", \"여행\"]\n",
        "}\n",
        "\n",
        "## json.dump를 이용한 저장  ## w == write : 기록 ## dump 함수로 파일로 저장\n",
        "with open('output.json', mode='w', encoding='utf-8') as f:\n",
        "    json.dump(data, f, indent=4, ensure_ascii=False) ## f : 파일로 저장 ## 아스키코드가 아닌 한글로 저장\n",
        "\n",
        "## DataFrame을 이용한 저장\n",
        "df = pd.DataFrame([data]) ## 하나의 data 객체이기 떄문에 [ ] 리스트로 묶어줘야 정상적이 컬럼이 된다.\n",
        "df.to_json('output_df.json', orient='records', indent=4, force_ascii=False)  # 아스키코드가 아닌 한글로 저장 json.dump를 이용한 저장이랑 다르니 주의\n"
      ],
      "metadata": {
        "id": "7bAgRpizW7Vj"
      },
      "execution_count": 15,
      "outputs": []
    },
    {
      "cell_type": "markdown",
      "source": [
        "## 5-3 Pandas Dataframe 데이터 추출"
      ],
      "metadata": {
        "id": "NMlsQDHtrA_x"
      }
    },
    {
      "cell_type": "code",
      "source": [
        "import pandas as pd\n",
        "\n",
        "data = {\n",
        "    \"이름\": [\"김철수\", \"이영희\", \"박민수\", \"최지훈\", \"정소희\"],\n",
        "    \"학년\": [1, 2, 3, 4, 2],\n",
        "    \"학점\": [4.2, 3.8, 4.5, 3.9, 3.5],\n",
        "    \"학과\": [\"컴퓨터학\", \"경영학\", \"농학\", \"교육학\", \"영어영문학\"],\n",
        "    \"동아리\": [\"프로그래밍\", \"독서토론\", \"로봇공학\", \"봉사활동\", \"음악감상\"]\n",
        "}\n",
        "df = pd.DataFrame(data) ## 여러개의 프레임이 있기 때문에 list가 아닌 그냥 데이터를 넣어야돼서 []를 제거해준다.\n",
        "\n",
        "## DataFrame 인덱스 출력\n",
        "print(df.index)\n",
        "\n",
        "## DataFrame 컬럼 출력\n",
        "print(df.columns)\n",
        "\n",
        "## DataFrame 행 출력\n",
        "print(df.values.tolist()) ## df.values로 추출된 Numpy 배열을 Python의 기본 리스트(List) 형태로 변환\n",
        "                          ## 각 행이 하위 리스트로 구성된 리스트의 리스트(list of lists)\n",
        "print(df.values) ## Numpy 배열(ndarray) 파일이라고 하는 Array  형태 : 행 데이터를 값만 추출\n",
        "\n",
        "## DataFrame 값 출력\n",
        "print(df.values.flatten()) ##  1차원 NumPy 배열로 만들어 출력 즉, 구조화 => 1열로 나열\n"
      ],
      "metadata": {
        "id": "dk3xneVAW9_g",
        "colab": {
          "base_uri": "https://localhost:8080/"
        },
        "outputId": "ecc1fde1-3342-46f5-8e52-ff8e63c1636f"
      },
      "execution_count": 21,
      "outputs": [
        {
          "output_type": "stream",
          "name": "stdout",
          "text": [
            "RangeIndex(start=0, stop=5, step=1)\n",
            "Index(['이름', '학년', '학점', '학과', '동아리'], dtype='object')\n",
            "[['김철수', 1, 4.2, '컴퓨터학', '프로그래밍'], ['이영희', 2, 3.8, '경영학', '독서토론'], ['박민수', 3, 4.5, '농학', '로봇공학'], ['최지훈', 4, 3.9, '교육학', '봉사활동'], ['정소희', 2, 3.5, '영어영문학', '음악감상']]\n",
            "[['김철수' 1 4.2 '컴퓨터학' '프로그래밍']\n",
            " ['이영희' 2 3.8 '경영학' '독서토론']\n",
            " ['박민수' 3 4.5 '농학' '로봇공학']\n",
            " ['최지훈' 4 3.9 '교육학' '봉사활동']\n",
            " ['정소희' 2 3.5 '영어영문학' '음악감상']]\n",
            "['김철수' 1 4.2 '컴퓨터학' '프로그래밍' '이영희' 2 3.8 '경영학' '독서토론' '박민수' 3 4.5 '농학'\n",
            " '로봇공학' '최지훈' 4 3.9 '교육학' '봉사활동' '정소희' 2 3.5 '영어영문학' '음악감상']\n"
          ]
        }
      ]
    },
    {
      "cell_type": "markdown",
      "source": [
        "## 5-4 DataFrame 생성 방법"
      ],
      "metadata": {
        "id": "ILJd1GLoseqm"
      }
    },
    {
      "cell_type": "code",
      "source": [
        "import pandas as pd\n",
        "import json\n",
        "\n",
        "data = {\n",
        "    \"이름\": [\"김철수\", \"이영희\", \"박민수\", \"최지훈\", \"정소희\"],\n",
        "    \"학년\": [1, 2, 3, 4, 2],\n",
        "    \"학점\": [4.2, 3.8, 4.5, 3.9, 3.5],\n",
        "    \"학과\": [\"컴퓨터공학\", \"경영학\", \"전자공학\", \"의학\", \"심리학\"],\n",
        "    \"동아리\": [\"프로그래밍\", \"독서토론\", \"로봇공학\", \"봉사활동\", \"음악감상\"]\n",
        "}\n",
        "\n",
        "## 딕셔너리, csv, json으로 부터 DataFrame 생성\n",
        "df1 = pd.DataFrame.from_dict(data) # from_dict : 생성하는 것을 좀 더 명확하게 하기 위함\n",
        "df2 = pd.read_csv('students.csv')\n",
        "df3 = pd.read_json('students.json')\n",
        "\n",
        "## 세가지 방법 결과 비교\n",
        "print(df1.shape) ## 크기(shape) : 세로로 몇 개의 \"행\"이 있는 지 가로로 몇 개의 \"열\"이 있는 지 알기 위함\n",
        "print(df2.shape)\n",
        "print(df3.shape)"
      ],
      "metadata": {
        "id": "ISnPLEgNXAmi",
        "colab": {
          "base_uri": "https://localhost:8080/"
        },
        "outputId": "7949a7e5-0e78-4b09-b45b-5dfeb1e0dc5a"
      },
      "execution_count": 22,
      "outputs": [
        {
          "output_type": "stream",
          "name": "stdout",
          "text": [
            "(5, 5)\n",
            "(5, 5)\n",
            "(5, 5)\n"
          ]
        }
      ]
    },
    {
      "cell_type": "markdown",
      "source": [
        "## 5-5 DataFrame 저장 방법"
      ],
      "metadata": {
        "id": "z1N6lAnwsdyU"
      }
    },
    {
      "cell_type": "code",
      "source": [
        "import pandas as pd\n",
        "\n",
        "data = {\n",
        "    \"이름\": [\"김철수\", \"이영희\", \"박민수\", \"최지훈\", \"정소희\"],\n",
        "    \"학년\": [1, 2, 3, 4, 2],\n",
        "    \"학점\": [4.2, 3.8, 4.5, 3.9, 3.5],\n",
        "    \"학과\": [\"컴퓨터공학\", \"경영학\", \"전자공학\", \"의학\", \"심리학\"],\n",
        "    \"동아리\": [\"프로그래밍\", \"독서토론\", \"로봇공학\", \"봉사활동\", \"음악감상\"]\n",
        "}\n",
        "\n",
        "## Dataframe 생성\n",
        "df1 = pd.DataFrame(data)\n",
        "\n",
        "## CSV, JSON 형식으로 저장\n",
        "df.to_csv('students_scores.csv')\n",
        "df.to_json('students_scores.json')\n",
        "\n",
        "## HTML 형식으로 저장\n",
        "html_table = df.to_html() ## to_html : 데이터프레임이 html로 변환\n",
        "print(html_table)\n",
        "with open('sutdents_scores.html', 'w') as f: ## 파일로 저장\n",
        "    f.write(html_table)"
      ],
      "metadata": {
        "id": "_dqoWCRoXDrJ",
        "colab": {
          "base_uri": "https://localhost:8080/"
        },
        "outputId": "a8747970-d4f7-4475-fea6-c11950fa86aa"
      },
      "execution_count": 24,
      "outputs": [
        {
          "output_type": "stream",
          "name": "stdout",
          "text": [
            "<table border=\"1\" class=\"dataframe\">\n",
            "  <thead>\n",
            "    <tr style=\"text-align: right;\">\n",
            "      <th></th>\n",
            "      <th>이름</th>\n",
            "      <th>학년</th>\n",
            "      <th>학점</th>\n",
            "      <th>학과</th>\n",
            "      <th>동아리</th>\n",
            "    </tr>\n",
            "  </thead>\n",
            "  <tbody>\n",
            "    <tr>\n",
            "      <th>0</th>\n",
            "      <td>김철수</td>\n",
            "      <td>1</td>\n",
            "      <td>4.2</td>\n",
            "      <td>컴퓨터학</td>\n",
            "      <td>프로그래밍</td>\n",
            "    </tr>\n",
            "    <tr>\n",
            "      <th>1</th>\n",
            "      <td>이영희</td>\n",
            "      <td>2</td>\n",
            "      <td>3.8</td>\n",
            "      <td>경영학</td>\n",
            "      <td>독서토론</td>\n",
            "    </tr>\n",
            "    <tr>\n",
            "      <th>2</th>\n",
            "      <td>박민수</td>\n",
            "      <td>3</td>\n",
            "      <td>4.5</td>\n",
            "      <td>농학</td>\n",
            "      <td>로봇공학</td>\n",
            "    </tr>\n",
            "    <tr>\n",
            "      <th>3</th>\n",
            "      <td>최지훈</td>\n",
            "      <td>4</td>\n",
            "      <td>3.9</td>\n",
            "      <td>교육학</td>\n",
            "      <td>봉사활동</td>\n",
            "    </tr>\n",
            "    <tr>\n",
            "      <th>4</th>\n",
            "      <td>정소희</td>\n",
            "      <td>2</td>\n",
            "      <td>3.5</td>\n",
            "      <td>영어영문학</td>\n",
            "      <td>음악감상</td>\n",
            "    </tr>\n",
            "  </tbody>\n",
            "</table>\n"
          ]
        }
      ]
    },
    {
      "cell_type": "markdown",
      "source": [
        "## 5-6 실습 시나리오"
      ],
      "metadata": {
        "id": "ifBFAyulsdJb"
      }
    },
    {
      "cell_type": "markdown",
      "source": [
        "## 데이터 수집"
      ],
      "metadata": {
        "id": "muFj6okKyXy6"
      }
    },
    {
      "cell_type": "code",
      "source": [
        "import requests\n",
        "\n",
        "url = \"http://apis.data.go.kr/B552584/ArpltnInforInqireSvc/getMinuDustFrcstDspth\"\n",
        "api_key = ''\n",
        "\n",
        "params = {\n",
        "    'serviceKey': api_key,\n",
        "    'returnType': 'json',\n",
        "    'numOfRows': '100',\n",
        "    'pageNo': '1',\n",
        "    'sidoName': '서울',\n",
        "    'ver': '1.0'\n",
        "}\n",
        "\n",
        "## 데이터 수집\n",
        "response = requests.get(url, params=params)\n",
        "\n",
        "## 호출 성공/실패 출력\n",
        "print(response.json())\n"
      ],
      "metadata": {
        "id": "7yCozmQeXJcO",
        "colab": {
          "base_uri": "https://localhost:8080/"
        },
        "outputId": "02fe7663-66fd-4161-e5af-968a37390df3"
      },
      "execution_count": 25,
      "outputs": [
        {
          "output_type": "stream",
          "name": "stdout",
          "text": [
            "{'response': {'body': {'totalCount': 840, 'items': [{'informCode': 'O3', 'dataTime': '2025-09-16'}, {'informCode': 'PM25', 'dataTime': '2025-09-16'}, {'informCode': 'PM10', 'dataTime': '2025-09-16'}, {'informCode': 'PM10', 'dataTime': '2025-09-16'}, {'informCode': 'PM25', 'dataTime': '2025-09-16'}, {'informCode': 'PM25', 'dataTime': '2025-09-16'}, {'informCode': 'O3', 'dataTime': '2025-09-16'}, {'informCode': 'O3', 'dataTime': '2025-09-16'}, {'informCode': 'PM10', 'dataTime': '2025-09-16'}, {'informCode': 'PM10', 'dataTime': '2025-09-16'}, {'informCode': 'PM25', 'dataTime': '2025-09-16'}, {'informCode': 'PM25', 'dataTime': '2025-09-16'}, {'informCode': 'O3', 'dataTime': '2025-09-16'}, {'informCode': 'O3', 'dataTime': '2025-09-16'}, {'informCode': 'PM10', 'dataTime': '2025-09-16'}, {'informCode': 'PM10', 'dataTime': '2025-09-16'}, {'informCode': 'PM10', 'dataTime': '2025-09-16'}, {'informCode': 'PM25', 'dataTime': '2025-09-16'}, {'informCode': 'PM25', 'dataTime': '2025-09-16'}, {'informCode': 'PM25', 'dataTime': '2025-09-16'}, {'informCode': 'O3', 'dataTime': '2025-09-16'}, {'informCode': 'O3', 'dataTime': '2025-09-16'}, {'informCode': 'PM10', 'dataTime': '2025-09-16'}, {'informCode': 'PM10', 'dataTime': '2025-09-16'}, {'informCode': 'PM10', 'dataTime': '2025-09-16'}, {'informCode': 'PM25', 'dataTime': '2025-09-16'}, {'informCode': 'PM25', 'dataTime': '2025-09-16'}, {'informCode': 'O3', 'dataTime': '2025-09-16'}, {'informCode': 'O3', 'dataTime': '2025-09-15'}, {'informCode': 'PM25', 'dataTime': '2025-09-15'}, {'informCode': 'PM10', 'dataTime': '2025-09-15'}, {'informCode': 'PM10', 'dataTime': '2025-09-15'}, {'informCode': 'PM25', 'dataTime': '2025-09-15'}, {'informCode': 'PM25', 'dataTime': '2025-09-15'}, {'informCode': 'O3', 'dataTime': '2025-09-15'}, {'informCode': 'O3', 'dataTime': '2025-09-15'}, {'informCode': 'PM10', 'dataTime': '2025-09-15'}, {'informCode': 'PM10', 'dataTime': '2025-09-15'}, {'informCode': 'PM25', 'dataTime': '2025-09-15'}, {'informCode': 'PM25', 'dataTime': '2025-09-15'}, {'informCode': 'O3', 'dataTime': '2025-09-15'}, {'informCode': 'O3', 'dataTime': '2025-09-15'}, {'informCode': 'PM10', 'dataTime': '2025-09-15'}, {'informCode': 'PM10', 'dataTime': '2025-09-15'}, {'informCode': 'PM10', 'dataTime': '2025-09-15'}, {'informCode': 'PM25', 'dataTime': '2025-09-15'}, {'informCode': 'PM25', 'dataTime': '2025-09-15'}, {'informCode': 'PM25', 'dataTime': '2025-09-15'}, {'informCode': 'O3', 'dataTime': '2025-09-15'}, {'informCode': 'O3', 'dataTime': '2025-09-15'}, {'informCode': 'PM10', 'dataTime': '2025-09-15'}, {'informCode': 'PM10', 'dataTime': '2025-09-15'}, {'informCode': 'PM10', 'dataTime': '2025-09-15'}, {'informCode': 'PM25', 'dataTime': '2025-09-15'}, {'informCode': 'PM25', 'dataTime': '2025-09-15'}, {'informCode': 'O3', 'dataTime': '2025-09-15'}, {'informCode': 'O3', 'dataTime': '2025-09-14'}, {'informCode': 'PM25', 'dataTime': '2025-09-14'}, {'informCode': 'PM10', 'dataTime': '2025-09-14'}, {'informCode': 'PM10', 'dataTime': '2025-09-14'}, {'informCode': 'PM25', 'dataTime': '2025-09-14'}, {'informCode': 'PM25', 'dataTime': '2025-09-14'}, {'informCode': 'O3', 'dataTime': '2025-09-14'}, {'informCode': 'O3', 'dataTime': '2025-09-14'}, {'informCode': 'PM10', 'dataTime': '2025-09-14'}, {'informCode': 'PM10', 'dataTime': '2025-09-14'}, {'informCode': 'PM25', 'dataTime': '2025-09-14'}, {'informCode': 'PM25', 'dataTime': '2025-09-14'}, {'informCode': 'O3', 'dataTime': '2025-09-14'}, {'informCode': 'O3', 'dataTime': '2025-09-14'}, {'informCode': 'PM10', 'dataTime': '2025-09-14'}, {'informCode': 'PM10', 'dataTime': '2025-09-14'}, {'informCode': 'PM10', 'dataTime': '2025-09-14'}, {'informCode': 'PM25', 'dataTime': '2025-09-14'}, {'informCode': 'PM25', 'dataTime': '2025-09-14'}, {'informCode': 'PM25', 'dataTime': '2025-09-14'}, {'informCode': 'O3', 'dataTime': '2025-09-14'}, {'informCode': 'O3', 'dataTime': '2025-09-14'}, {'informCode': 'PM10', 'dataTime': '2025-09-14'}, {'informCode': 'PM10', 'dataTime': '2025-09-14'}, {'informCode': 'PM10', 'dataTime': '2025-09-14'}, {'informCode': 'PM25', 'dataTime': '2025-09-14'}, {'informCode': 'PM25', 'dataTime': '2025-09-14'}, {'informCode': 'O3', 'dataTime': '2025-09-14'}, {'informCode': 'O3', 'dataTime': '2025-09-13'}, {'informCode': 'PM25', 'dataTime': '2025-09-13'}, {'informCode': 'PM10', 'dataTime': '2025-09-13'}, {'informCode': 'PM10', 'dataTime': '2025-09-13'}, {'informCode': 'PM10', 'dataTime': '2025-09-13'}, {'informCode': 'PM25', 'dataTime': '2025-09-13'}, {'informCode': 'PM25', 'dataTime': '2025-09-13'}, {'informCode': 'PM25', 'dataTime': '2025-09-13'}, {'informCode': 'O3', 'dataTime': '2025-09-13'}, {'informCode': 'O3', 'dataTime': '2025-09-13'}, {'informCode': 'PM10', 'dataTime': '2025-09-13'}, {'informCode': 'PM10', 'dataTime': '2025-09-13'}, {'informCode': 'PM25', 'dataTime': '2025-09-13'}, {'informCode': 'PM25', 'dataTime': '2025-09-13'}, {'informCode': 'O3', 'dataTime': '2025-09-13'}, {'informCode': 'O3', 'dataTime': '2025-09-13'}], 'pageNo': 1, 'numOfRows': 100}, 'header': {'resultMsg': 'NORMAL_CODE', 'resultCode': '00'}}}\n"
          ]
        }
      ]
    },
    {
      "cell_type": "markdown",
      "source": [
        "## 데이터 프레임 생성"
      ],
      "metadata": {
        "id": "d6mT4IxkySzI"
      }
    },
    {
      "cell_type": "code",
      "source": [
        "import pandas as pd\n",
        "\n",
        "## requests로부터 response, body, item 항목 읽기\n",
        "data = response.json()['response']['body']['items']\n",
        "print(type(data)) ## <class 'list'>\n",
        "print(len(data)) ## len 길이 ## 100\n",
        "print(data[0]) ## {'informCode': 'O3', 'dataTime': '2025-09-16'}\n",
        "df = pd.DataFrame(data)\n",
        "df['informCode'] ## 해당 컬럼만 보길 원한다면"
      ],
      "metadata": {
        "id": "HOOo9qTsXLkB",
        "colab": {
          "base_uri": "https://localhost:8080/",
          "height": 513
        },
        "outputId": "eb10b2f2-15fe-4a31-8534-19f4d9de6759"
      },
      "execution_count": 31,
      "outputs": [
        {
          "output_type": "stream",
          "name": "stdout",
          "text": [
            "<class 'list'>\n",
            "100\n",
            "{'informCode': 'O3', 'dataTime': '2025-09-16'}\n"
          ]
        },
        {
          "output_type": "execute_result",
          "data": {
            "text/plain": [
              "0       O3\n",
              "1     PM25\n",
              "2     PM10\n",
              "3     PM10\n",
              "4     PM25\n",
              "      ... \n",
              "95    PM10\n",
              "96    PM25\n",
              "97    PM25\n",
              "98      O3\n",
              "99      O3\n",
              "Name: informCode, Length: 100, dtype: object"
            ],
            "text/html": [
              "<div>\n",
              "<style scoped>\n",
              "    .dataframe tbody tr th:only-of-type {\n",
              "        vertical-align: middle;\n",
              "    }\n",
              "\n",
              "    .dataframe tbody tr th {\n",
              "        vertical-align: top;\n",
              "    }\n",
              "\n",
              "    .dataframe thead th {\n",
              "        text-align: right;\n",
              "    }\n",
              "</style>\n",
              "<table border=\"1\" class=\"dataframe\">\n",
              "  <thead>\n",
              "    <tr style=\"text-align: right;\">\n",
              "      <th></th>\n",
              "      <th>informCode</th>\n",
              "    </tr>\n",
              "  </thead>\n",
              "  <tbody>\n",
              "    <tr>\n",
              "      <th>0</th>\n",
              "      <td>O3</td>\n",
              "    </tr>\n",
              "    <tr>\n",
              "      <th>1</th>\n",
              "      <td>PM25</td>\n",
              "    </tr>\n",
              "    <tr>\n",
              "      <th>2</th>\n",
              "      <td>PM10</td>\n",
              "    </tr>\n",
              "    <tr>\n",
              "      <th>3</th>\n",
              "      <td>PM10</td>\n",
              "    </tr>\n",
              "    <tr>\n",
              "      <th>4</th>\n",
              "      <td>PM25</td>\n",
              "    </tr>\n",
              "    <tr>\n",
              "      <th>...</th>\n",
              "      <td>...</td>\n",
              "    </tr>\n",
              "    <tr>\n",
              "      <th>95</th>\n",
              "      <td>PM10</td>\n",
              "    </tr>\n",
              "    <tr>\n",
              "      <th>96</th>\n",
              "      <td>PM25</td>\n",
              "    </tr>\n",
              "    <tr>\n",
              "      <th>97</th>\n",
              "      <td>PM25</td>\n",
              "    </tr>\n",
              "    <tr>\n",
              "      <th>98</th>\n",
              "      <td>O3</td>\n",
              "    </tr>\n",
              "    <tr>\n",
              "      <th>99</th>\n",
              "      <td>O3</td>\n",
              "    </tr>\n",
              "  </tbody>\n",
              "</table>\n",
              "<p>100 rows × 1 columns</p>\n",
              "</div><br><label><b>dtype:</b> object</label>"
            ]
          },
          "metadata": {},
          "execution_count": 31
        }
      ]
    },
    {
      "cell_type": "markdown",
      "source": [
        "## 다양항 형식으로 데이터 저장\n"
      ],
      "metadata": {
        "id": "vVG0HYb0ymeM"
      }
    },
    {
      "cell_type": "code",
      "source": [
        "## CSV 형식 데이터 저장\n",
        "df.to_csv('air_pollution.csv', index=False, encoding='utf-8')\n",
        "\n",
        "## JSON 형식 데이터 저장\n",
        "df.to_json('air_pollution.json', indent=4, force_ascii=False) ##force_ascii 사용 안할 경우 알아 볼 수 없음 한글x...\n",
        "\n",
        "## EXCEL 형식 데이터 저장\n",
        "df.to_excel('air_pollution.xlsx', index=False)\n",
        "\n",
        "## HTML 형식 데이터 저장\n",
        "df.to_html('air_pollution.html')\n",
        "# html 2가지 방식\n",
        "# 1. with open() : 문자열 형태로 준비된 HTML 코드(html_table)를 파일(students_scores.html)에 그대로 쓰는 방식\n",
        "#            특징: Pandas와 같은 특정 라이브러리에 종속되지 않는 범용적인 방법,\n",
        "#                  이미 HTML 코드가 문자열로 완성되어 있어야 한다.\n",
        "# 2. df.to_html() 메소드 방식 : Pandas DataFrame에 특화된 메소드, 자동으로 HTML 테이블 형식으로 변환하여 지정된 파일 바로 저\n",
        "#            특징: Pandas 라이브러리가 필요, 개발자가 직접 HTML 코드를 작성할 필요 없이,\n",
        "#                  복잡한 데이터를 간단하게 HTML로 내보낼 수 있는 편리한 기능\n"
      ],
      "metadata": {
        "id": "HW1ZodpgXNhG"
      },
      "execution_count": 33,
      "outputs": []
    },
    {
      "cell_type": "code",
      "source": [],
      "metadata": {
        "id": "Tq21Oi-5weOB"
      },
      "execution_count": null,
      "outputs": []
    },
    {
      "cell_type": "code",
      "source": [],
      "metadata": {
        "id": "-ONpyuFswXLJ"
      },
      "execution_count": null,
      "outputs": []
    }
  ]
}
{
  "cells": [
    {
      "cell_type": "markdown",
      "metadata": {
        "id": "view-in-github",
        "colab_type": "text"
      },
      "source": [
        "<a href=\"https://colab.research.google.com/github/Elinasu001/Data-Analysis-with-Open-Source/blob/main/%EC%98%A4%ED%94%88%EC%86%8C%EC%8A%A4_%EB%8D%B0%EC%9D%B4%ED%84%B0_%EB%B6%84%EC%84%9D_2%EA%B0%95.ipynb\" target=\"_parent\"><img src=\"https://colab.research.google.com/assets/colab-badge.svg\" alt=\"Open In Colab\"/></a>"
      ]
    },
    {
      "cell_type": "markdown",
      "metadata": {
        "id": "DkPKaAsoRq5Q"
      },
      "source": [
        "\n",
        "\n",
        "# 오픈소스 기반 데이터 분석 - 서울시 열린데이터광장 데이터 분석\n"
      ]
    },
    {
      "cell_type": "markdown",
      "metadata": {
        "id": "-I7BVVlnRrB0"
      },
      "source": [
        "## 문제 1-2. API 호출, 2015년 1월부터 2024년 12월까지의 개인 유형의 형년 전기, 가스, 수도, 지역난방 에너지 사용량 데이터를 수집하는 프로그램 작성"
      ]
    },
    {
      "cell_type": "markdown",
      "source": [
        "### 1-2) API 호출"
      ],
      "metadata": {
        "id": "KvGpno1Z09YY"
      }
    },
    {
      "cell_type": "code",
      "source": [
        "import requests\n",
        "\n",
        "api_key = \"52726d4a68656c6937327048787854\"\n",
        "base_url = f\"http://openapi.seoul.go.kr:8088/{api_key}/json/energyUseDataSummaryInfo/1/5/\"\n",
        "\n",
        "params = {\n",
        "    'serviceKey': api_key,\n",
        "    'returnType': 'json',\n",
        "    'numOfRows': '100',\n",
        "    'pageNo': '1',\n",
        "    'sidoName': '서울',\n",
        "    'ver': '1.0'\n",
        "}\n",
        "\n",
        "response = requests.get(base_url)\n",
        "\n",
        "if response.status_code == 200:\n",
        "    print(\"api 호출 성공\")\n",
        "    print(response.json())\n",
        "else:\n",
        "    print(f\"API 호출 실패 : {response.status_code}\")"
      ],
      "metadata": {
        "colab": {
          "base_uri": "https://localhost:8080/"
        },
        "id": "ZKDKsFM5sRk2",
        "outputId": "4b1f99da-94aa-4b70-c4a0-e57d2af02c0a"
      },
      "execution_count": 22,
      "outputs": [
        {
          "output_type": "stream",
          "name": "stdout",
          "text": [
            "api 호출 성공\n",
            "{'energyUseDataSummaryInfo': {'list_total_count': 1241, 'RESULT': {'CODE': 'INFO-000', 'MESSAGE': '정상 처리되었습니다'}, 'row': [{'YEAR': '2025', 'MON': '06', 'MM_TYPE': '개인', 'CNT': '1269454', 'EUS': '278745288', 'EUS1': '275851011', 'EUS2': '273151435', 'ECO2_1': '4244065', 'ECO2_2': '2076623.656', 'GUS': '13084768', 'GUS1': '11889039', 'GUS2': '12094650', 'GCO2_1': '1091102', 'GCO2_2': '2182204', 'WUS': '14927683.6', 'WUS1': '15166284.8', 'WUS2': '15371662.2', 'WCO2_1': '-341289.9', 'WCO2_2': '-611822.446', 'HUS': '379182.22', 'HUS1': '368839.049', 'HUS2': '389847.167', 'HCO2_1': '-160.888', 'HCO2_2': '-22448.67848156', 'REG_DATE': '2025-09-01 04:02:15.0'}, {'YEAR': '2025', 'MON': '06', 'MM_TYPE': '학교', 'CNT': '6745', 'EUS': '117808793', 'EUS1': '114793127', 'EUS2': '114623246', 'ECO2_1': '3100606.5', 'ECO2_2': '3096973.668', 'GUS': '2093441', 'GUS1': '2046804', 'GUS2': '2061648', 'GCO2_1': '39207', 'GCO2_2': '78414', 'WUS': '1824338.2', 'WUS1': '1914804.2', 'WUS2': '1956560.2', 'WCO2_1': '-111344', 'WCO2_2': '-333633.134', 'HUS': '8.03', 'HUS1': '8.03', 'HUS2': '8.03', 'HCO2_1': '0', 'HCO2_2': '0', 'REG_DATE': '2025-09-01 04:02:15.0'}, {'YEAR': '2025', 'MON': '06', 'MM_TYPE': '공동주택관리소', 'CNT': '3729', 'EUS': '498863841', 'EUS1': '496003195', 'EUS2': '488758810', 'ECO2_1': '6482838.5', 'ECO2_2': '6482838.5', 'GUS': '2853437', 'GUS1': '2552964', 'GUS2': '2586972', 'GCO2_1': '283460.5', 'GCO2_2': '566921', 'WUS': '20407812.7', 'WUS1': '20616193.4', 'WUS2': '20794568.4', 'WCO2_1': '-297568.2', 'WCO2_2': '-892704.6', 'HUS': '0', 'HUS1': '0', 'HUS2': '0', 'HCO2_1': '0', 'HCO2_2': '0', 'REG_DATE': '2025-09-01 04:02:15.0'}, {'YEAR': '2025', 'MON': '06', 'MM_TYPE': '종교단체', 'CNT': '849', 'EUS': '6205342', 'EUS1': '6171454', 'EUS2': '6094109', 'ECO2_1': '72560.5', 'ECO2_2': '72560.5', 'GUS': '139336', 'GUS1': '152116', 'GUS2': '141705', 'GCO2_1': '-7575', 'GCO2_2': '-15150', 'WUS': '52228', 'WUS1': '51779', 'WUS2': '49094', 'WCO2_1': '1791.5', 'WCO2_2': '5374.5', 'HUS': '0', 'HUS1': '0', 'HUS2': '0', 'HCO2_1': '0', 'HCO2_2': '0', 'REG_DATE': '2025-09-01 04:02:15.0'}, {'YEAR': '2025', 'MON': '06', 'MM_TYPE': '소상공인', 'CNT': '53274', 'EUS': '96254029', 'EUS1': '98122772', 'EUS2': '98464917', 'ECO2_1': '-2039815.5', 'ECO2_2': '-2043866.22', 'GUS': '1638563', 'GUS1': '1647690', 'GUS2': '1687480', 'GCO2_1': '-27668', 'GCO2_2': '-55336', 'WUS': '1526737.8', 'WUS1': '1541313.8', 'WUS2': '1576869.2', 'WCO2_1': '-32353.7', 'WCO2_2': '-97437.288', 'HUS': '2', 'HUS1': '2', 'HUS2': '2', 'HCO2_1': '0', 'HCO2_2': '0', 'REG_DATE': '2025-09-01 04:02:15.0'}]}}\n"
          ]
        }
      ]
    },
    {
      "cell_type": "markdown",
      "source": [
        "### 1-2) 2015년 1월부터 2024년 12월까지의 개인 유형의 형년 전기, 가스, 수도, 지역난방 에너지 사용량 데이터를 수집하는 프로그램 작성"
      ],
      "metadata": {
        "id": "t7R2FDmz2El4"
      }
    },
    {
      "cell_type": "code",
      "source": [
        "import requests\n",
        "\n",
        "api_key = \"52726d4a68656c6937327048787854\"\n",
        "base_url = f\"http://openapi.seoul.go.kr:8088/{api_key}/json/energyUseDataStatInfo/1/5/\"\n",
        "\n",
        "for year in range(2015, 2025):                  # 2015 ~ 2024\n",
        "    for month in range(1, 13):                  # 1월 ~ 12월\n",
        "        month_str = f\"{month:02d}\"              # 두자리\n",
        "        url = f\"{base_url}{year}/{month_str}\"\n",
        "\n",
        "        # API 호출\n",
        "        response = requests.get(url)\n",
        "\n",
        "        if response.status_code == 200:\n",
        "            data = response.json()\n",
        "            if \"RESULT\" in data and data[\"RESULT\"][\"CODE\"] != \"INFO-000\":\n",
        "                print(f\"{year}년 {month}월 수집 실패 : {data['RESULT']['MESSAGE']}\")\n",
        "            else:\n",
        "                print(f\"{year}년 {month}월 수집 성공\")\n",
        "        else:\n",
        "            print(f\"{year}년 {month}월 요청 실패 : (HTTP {response.status_code})\")\n"
      ],
      "metadata": {
        "colab": {
          "base_uri": "https://localhost:8080/"
        },
        "outputId": "495e846f-40f3-4383-f878-b26e4244631c",
        "id": "Tx3AJIT-2El5"
      },
      "execution_count": 21,
      "outputs": [
        {
          "output_type": "stream",
          "name": "stdout",
          "text": [
            "2015년 1월 수집 성공\n",
            "2015년 2월 수집 성공\n",
            "2015년 3월 수집 성공\n",
            "2015년 4월 수집 성공\n",
            "2015년 5월 수집 성공\n",
            "2015년 6월 수집 성공\n",
            "2015년 7월 수집 성공\n",
            "2015년 8월 수집 성공\n",
            "2015년 9월 수집 성공\n",
            "2015년 10월 수집 성공\n",
            "2015년 11월 수집 성공\n",
            "2015년 12월 수집 성공\n",
            "2016년 1월 수집 성공\n",
            "2016년 2월 수집 성공\n",
            "2016년 3월 수집 성공\n",
            "2016년 4월 수집 성공\n",
            "2016년 5월 수집 성공\n",
            "2016년 6월 수집 성공\n",
            "2016년 7월 수집 성공\n",
            "2016년 8월 수집 성공\n",
            "2016년 9월 수집 성공\n",
            "2016년 10월 수집 성공\n",
            "2016년 11월 수집 성공\n",
            "2016년 12월 수집 성공\n",
            "2017년 1월 수집 성공\n",
            "2017년 2월 수집 성공\n",
            "2017년 3월 수집 성공\n",
            "2017년 4월 수집 성공\n",
            "2017년 5월 수집 성공\n",
            "2017년 6월 수집 성공\n",
            "2017년 7월 수집 성공\n",
            "2017년 8월 수집 성공\n",
            "2017년 9월 수집 성공\n",
            "2017년 10월 수집 성공\n",
            "2017년 11월 수집 성공\n",
            "2017년 12월 수집 성공\n",
            "2018년 1월 수집 성공\n",
            "2018년 2월 수집 성공\n",
            "2018년 3월 수집 성공\n",
            "2018년 4월 수집 성공\n",
            "2018년 5월 수집 성공\n",
            "2018년 6월 수집 성공\n",
            "2018년 7월 수집 성공\n",
            "2018년 8월 수집 성공\n",
            "2018년 9월 수집 성공\n",
            "2018년 10월 수집 성공\n",
            "2018년 11월 수집 성공\n",
            "2018년 12월 수집 성공\n",
            "2019년 1월 수집 성공\n",
            "2019년 2월 수집 성공\n",
            "2019년 3월 수집 성공\n",
            "2019년 4월 수집 성공\n",
            "2019년 5월 수집 성공\n",
            "2019년 6월 수집 성공\n",
            "2019년 7월 수집 성공\n",
            "2019년 8월 수집 성공\n",
            "2019년 9월 수집 성공\n",
            "2019년 10월 수집 성공\n",
            "2019년 11월 수집 성공\n",
            "2019년 12월 수집 성공\n",
            "2020년 1월 수집 성공\n",
            "2020년 2월 수집 성공\n",
            "2020년 3월 수집 성공\n",
            "2020년 4월 수집 성공\n",
            "2020년 5월 수집 성공\n",
            "2020년 6월 수집 성공\n",
            "2020년 7월 수집 성공\n",
            "2020년 8월 수집 성공\n",
            "2020년 9월 수집 성공\n",
            "2020년 10월 수집 성공\n",
            "2020년 11월 수집 성공\n",
            "2020년 12월 수집 성공\n",
            "2021년 1월 수집 성공\n",
            "2021년 2월 수집 성공\n",
            "2021년 3월 수집 성공\n",
            "2021년 4월 수집 성공\n",
            "2021년 5월 수집 성공\n",
            "2021년 6월 수집 성공\n",
            "2021년 7월 수집 성공\n",
            "2021년 8월 수집 성공\n",
            "2021년 9월 수집 성공\n",
            "2021년 10월 수집 성공\n",
            "2021년 11월 수집 성공\n",
            "2021년 12월 수집 성공\n",
            "2022년 1월 수집 성공\n",
            "2022년 2월 수집 성공\n",
            "2022년 3월 수집 성공\n",
            "2022년 4월 수집 성공\n",
            "2022년 5월 수집 성공\n",
            "2022년 6월 수집 성공\n",
            "2022년 7월 수집 성공\n",
            "2022년 8월 수집 성공\n",
            "2022년 9월 수집 성공\n",
            "2022년 10월 수집 성공\n",
            "2022년 11월 수집 성공\n",
            "2022년 12월 수집 성공\n",
            "2023년 1월 수집 성공\n",
            "2023년 2월 수집 성공\n",
            "2023년 3월 수집 성공\n",
            "2023년 4월 수집 성공\n",
            "2023년 5월 수집 성공\n",
            "2023년 6월 수집 성공\n",
            "2023년 7월 수집 성공\n",
            "2023년 8월 수집 성공\n",
            "2023년 9월 수집 성공\n",
            "2023년 10월 수집 성공\n",
            "2023년 11월 수집 성공\n",
            "2023년 12월 수집 성공\n",
            "2024년 1월 수집 성공\n",
            "2024년 2월 수집 성공\n",
            "2024년 3월 수집 성공\n",
            "2024년 4월 수집 성공\n",
            "2024년 5월 수집 성공\n",
            "2024년 6월 수집 성공\n",
            "2024년 7월 수집 성공\n",
            "2024년 8월 수집 성공\n",
            "2024년 9월 수집 성공\n",
            "2024년 10월 수집 성공\n",
            "2024년 11월 수집 성공\n",
            "2024년 12월 수집 성공\n"
          ]
        }
      ]
    },
    {
      "cell_type": "markdown",
      "metadata": {
        "id": "eOMufu5SXiAU"
      },
      "source": [
        "## 문제 2. 데이터 변환 및 전처리\n"
      ]
    },
    {
      "cell_type": "markdown",
      "metadata": {
        "id": "njDOfr1LFqlf"
      },
      "source": [
        "### 2-1) 수집한 json 현태의 데이터를 pandas DataFrame 변환, 데이터 기본 정보 출력"
      ]
    },
    {
      "cell_type": "code",
      "source": [],
      "metadata": {
        "id": "2HLmLVLkN3u0"
      },
      "execution_count": null,
      "outputs": []
    },
    {
      "cell_type": "markdown",
      "metadata": {
        "id": "6lnhCleJFqlg"
      },
      "source": [
        "### 2-2) 연도별, 계절별 분석을 위해 날짜 컬럼 활용하여 연도(year)와 계절(season) 컬럼을 추가하는 전처리 코드를 작성 * 계절 구분 : 봄(3-5월), 여름(6-8월), 가을(9-11월), 겨울(12-2월)"
      ]
    },
    {
      "cell_type": "markdown",
      "metadata": {
        "id": "Ff2oQ3mMraaU"
      },
      "source": [
        "## 문제 3. 데이터 시각화\n"
      ]
    },
    {
      "cell_type": "markdown",
      "metadata": {
        "id": "7WsfxyrYraaV"
      },
      "source": [
        "### 3-1) 연도별 에너지 사용 총 사용량(전기+가스+수도+지역난방) 변화량을 선 그래프로 시각화하고, 그래프에 자신의 학번 뒤 4자리를 제목에 포함(예: \"연도별 에너지 사용 총액 변화 - 1234\")"
      ]
    },
    {
      "cell_type": "markdown",
      "metadata": {
        "id": "acnkv_VqraaV"
      },
      "source": [
        "### 3-2) 계절별 가스 사용량 평균을 막대 그래프로 시각화하고, 각 막대에 구체적인 수치를 표시"
      ]
    },
    {
      "cell_type": "markdown",
      "metadata": {
        "id": "d0eLlJJHr7I_"
      },
      "source": [
        "## 문제 4. 데이터 분석 및 해석 ( 시각화 결과를 바탕으로 다음을 분석하고 설명 )\n"
      ]
    },
    {
      "cell_type": "markdown",
      "metadata": {
        "id": "6h_LHu9Ar7JA"
      },
      "source": [
        "### 4-1) 연도별 에너지 사용량 변화에서 나타나는 주요 트렌드를 찾아 분석하고, 그 원인을 추론하여 200자 이내로 설명"
      ]
    },
    {
      "cell_type": "markdown",
      "metadata": {
        "id": "jhhHg2SAr7JB"
      },
      "source": [
        "### 2-2. 연도별, 계절별 분석을 위해 날짜 컬럼 활용하여 연도(year)와 계절(season) 컬럼을 추가하는 전처리 코드를 작성 * 계절 구분 : 봄(3-5월), 여름(6-8월), 가을(9-11월), 겨울(12-2월)"
      ]
    }
  ],
  "metadata": {
    "colab": {
      "provenance": [],
      "include_colab_link": true
    },
    "kernelspec": {
      "display_name": "Python 3",
      "name": "python3"
    },
    "language_info": {
      "name": "python"
    }
  },
  "nbformat": 4,
  "nbformat_minor": 0
}
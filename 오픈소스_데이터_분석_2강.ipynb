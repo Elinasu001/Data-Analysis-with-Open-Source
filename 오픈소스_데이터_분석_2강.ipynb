{
  "cells": [
    {
      "cell_type": "markdown",
      "metadata": {
        "id": "view-in-github",
        "colab_type": "text"
      },
      "source": [
        "<a href=\"https://colab.research.google.com/github/Elinasu001/Data-Analysis-with-Open-Source/blob/main/%EC%98%A4%ED%94%88%EC%86%8C%EC%8A%A4_%EB%8D%B0%EC%9D%B4%ED%84%B0_%EB%B6%84%EC%84%9D_2%EA%B0%95.ipynb\" target=\"_parent\"><img src=\"https://colab.research.google.com/assets/colab-badge.svg\" alt=\"Open In Colab\"/></a>"
      ]
    },
    {
      "cell_type": "markdown",
      "metadata": {
        "id": "DkPKaAsoRq5Q"
      },
      "source": [
        "\n",
        "\n",
        "# 오픈소스 기반 데이터 분석 - 서울시 열린데이터광장 데이터 분석\n"
      ]
    },
    {
      "cell_type": "markdown",
      "metadata": {
        "id": "-I7BVVlnRrB0"
      },
      "source": [
        "## 문제 1. API 호출, 2015년 1월부터 2024년 12월까지의 개인 유형의 형년 전기, 가스, 수도, 지역난방 에너지 사용량 데이터를 수집하는 프로그램 작성"
      ]
    },
    {
      "cell_type": "code",
      "source": [],
      "metadata": {
        "id": "ZKDKsFM5sRk2"
      },
      "execution_count": null,
      "outputs": []
    },
    {
      "cell_type": "markdown",
      "metadata": {
        "id": "eOMufu5SXiAU"
      },
      "source": [
        "## 문제 2. 데이터 변환 및 전처리\n"
      ]
    },
    {
      "cell_type": "markdown",
      "metadata": {
        "id": "njDOfr1LFqlf"
      },
      "source": [
        "### 2-1) 수집한 json 현태의 데이터를 pandas DataFrame 변환, 데이터 기본 정보 출력"
      ]
    },
    {
      "cell_type": "markdown",
      "metadata": {
        "id": "6lnhCleJFqlg"
      },
      "source": [
        "### 2-2) 연도별, 계절별 분석을 위해 날짜 컬럼 활용하여 연도(year)와 계절(season) 컬럼을 추가하는 전처리 코드를 작성 * 계절 구분 : 봄(3-5월), 여름(6-8월), 가을(9-11월), 겨울(12-2월)"
      ]
    },
    {
      "cell_type": "markdown",
      "metadata": {
        "id": "Ff2oQ3mMraaU"
      },
      "source": [
        "## 문제 3. 데이터 시각화\n"
      ]
    },
    {
      "cell_type": "markdown",
      "metadata": {
        "id": "7WsfxyrYraaV"
      },
      "source": [
        "### 3-1) 연도별 에너지 사용 총 사용량(전기+가스+수도+지역난방) 변화량을 선 그래프로 시각화하고, 그래프에 자신의 학번 뒤 4자리를 제목에 포함(예: \"연도별 에너지 사용 총액 변화 - 1234\")"
      ]
    },
    {
      "cell_type": "markdown",
      "metadata": {
        "id": "acnkv_VqraaV"
      },
      "source": [
        "### 3-2) 계절별 가스 사용량 평균을 막대 그래프로 시각화하고, 각 막대에 구체적인 수치를 표시"
      ]
    },
    {
      "cell_type": "markdown",
      "metadata": {
        "id": "d0eLlJJHr7I_"
      },
      "source": [
        "## 문제 4. 데이터 분석 및 해석 ( 시각화 결과를 바탕으로 다음을 분석하고 설명 )\n"
      ]
    },
    {
      "cell_type": "markdown",
      "metadata": {
        "id": "6h_LHu9Ar7JA"
      },
      "source": [
        "### 4-1) 연도별 에너지 사용량 변화에서 나타나는 주요 트렌드를 찾아 분석하고, 그 원인을 추론하여 200자 이내로 설명"
      ]
    },
    {
      "cell_type": "markdown",
      "metadata": {
        "id": "jhhHg2SAr7JB"
      },
      "source": [
        "### 2-2. 연도별, 계절별 분석을 위해 날짜 컬럼 활용하여 연도(year)와 계절(season) 컬럼을 추가하는 전처리 코드를 작성 * 계절 구분 : 봄(3-5월), 여름(6-8월), 가을(9-11월), 겨울(12-2월)"
      ]
    }
  ],
  "metadata": {
    "colab": {
      "provenance": [],
      "include_colab_link": true
    },
    "kernelspec": {
      "display_name": "Python 3",
      "name": "python3"
    },
    "language_info": {
      "name": "python"
    }
  },
  "nbformat": 4,
  "nbformat_minor": 0
}